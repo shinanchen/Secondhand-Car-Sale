{
  "cells": [
    {
      "cell_type": "markdown",
      "metadata": {},
      "source": [
        "# Label Encoding"
      ]
    },
    {
      "cell_type": "markdown",
      "metadata": {},
      "source": [
        "Im letzten Abschnitt des Feature Engineerings besteht das Ziel darin, die Zeichenkettenvariablen in Ganzzahlen umzuwandeln, indem wir eine Zuordnung zwischen den eindeutigen Kategorien und numerischen Werten erstellen. Am Ende dieses Abschnitts soll ein Datensatz vorliegen, der ausschließlich Datentypen Integer/Float aufweist und keine fehlenden Werte enthält."
      ]
    },
    {
      "cell_type": "code",
      "execution_count": 68,
      "metadata": {
        "colab": {
          "base_uri": "https://localhost:8080/"
        },
        "id": "Qro5DwM2sodj",
        "outputId": "99960c44-438b-49d3-cbd6-4235613b2caa"
      },
      "outputs": [
        {
          "name": "stdout",
          "output_type": "stream",
          "text": [
            "Drive already mounted at /content/drive; to attempt to forcibly remount, call drive.mount(\"/content/drive\", force_remount=True).\n"
          ]
        }
      ],
      "source": [
        "import pandas as pd\n",
        "import numpy as np\n",
        "import matplotlib.pyplot as plt\n",
        "import seaborn as sns\n",
        "\n",
        "pd.set_option('display.max_columns', None)\n",
        "\n",
        "# Read in the data\n",
        "cars = pd.read_csv(\"Cars_Data_Explorer.csv\", sep=\";\", index_col=0)\n",
        "cars = cars.copy()"
      ]
    },
    {
      "cell_type": "code",
      "execution_count": 69,
      "metadata": {
        "colab": {
          "base_uri": "https://localhost:8080/"
        },
        "id": "vF6XD-4Ytmbz",
        "outputId": "093538f6-5ca9-49a9-d0ea-bd8059dd8d4b"
      },
      "outputs": [
        {
          "name": "stdout",
          "output_type": "stream",
          "text": [
            "<class 'pandas.core.frame.DataFrame'>\n",
            "Int64Index: 70373 entries, 0 to 70372\n",
            "Data columns (total 27 columns):\n",
            " #   Column                      Non-Null Count  Dtype  \n",
            "---  ------                      --------------  -----  \n",
            " 0   Marke                       70373 non-null  object \n",
            " 1   Modell                      70373 non-null  object \n",
            " 2   Ort                         70373 non-null  object \n",
            " 3   Preis                       70373 non-null  float64\n",
            " 4   Fahrzeugart                 70373 non-null  object \n",
            " 5   Karosserieform              70373 non-null  object \n",
            " 6   Kilometerstand              70373 non-null  int64  \n",
            " 7   Fahrleistung p.a.           70373 non-null  float64\n",
            " 8   Getriebe                    70373 non-null  object \n",
            " 9   Türen                       70373 non-null  float64\n",
            " 10  Außenfarbe                  70373 non-null  object \n",
            " 11  Komfort                     70373 non-null  object \n",
            " 12  Sicherheit                  70373 non-null  object \n",
            " 13  Extras                      70373 non-null  object \n",
            " 14  Erstzulassung               70373 non-null  float64\n",
            " 15  Unterhaltung/Media          70373 non-null  object \n",
            " 16  Hubraum                     70373 non-null  float64\n",
            " 17  Innenausstattung            70373 non-null  object \n",
            " 18  Farbe der Innenausstattung  70373 non-null  object \n",
            " 19  Schadstoffklasse            70373 non-null  object \n",
            " 20  Nichtraucherfahrzeug        70373 non-null  object \n",
            " 21  Scheckheftgepflegt          70373 non-null  object \n",
            " 22  Garantie                    70373 non-null  object \n",
            " 23  Fahrzeugzustand             70373 non-null  object \n",
            " 24  Taxi oder Mietwagen         70373 non-null  object \n",
            " 25  KW                          70373 non-null  int64  \n",
            " 26  PS                          70373 non-null  int64  \n",
            "dtypes: float64(5), int64(3), object(19)\n",
            "memory usage: 15.0+ MB\n"
          ]
        }
      ],
      "source": [
        "cars.info()"
      ]
    },
    {
      "cell_type": "markdown",
      "metadata": {
        "id": "1TrL0jrytCzY"
      },
      "source": [
        "Transformation der Features: Konvertierung von teilweise qualitativen Daten zu ausschließlich quantitativen Daten zur Optimierung der Trainingsdaten für Machine Learning-Modelle."
      ]
    },
    {
      "cell_type": "code",
      "execution_count": 70,
      "metadata": {
        "id": "DB2S5Sy8tKlS"
      },
      "outputs": [],
      "source": [
        "# Label Encoding für ordinale Daten\n",
        "from sklearn.preprocessing import LabelEncoder\n",
        "\n",
        "# Feature Komfort\n",
        "# Encoder einfügen\n",
        "label_encoder_komfort = LabelEncoder()\n",
        "classes_komfort = [\"Hoch\", \"Mittel\", 'Niedrig']\n",
        "label_encoder_komfort.fit(classes_komfort)\n",
        "\n",
        "# Wende Label Encoding auf die Spalte \"Komfort\" an\n",
        "cars[\"Komfort\"] = label_encoder_komfort.transform(cars[\"Komfort\"])\n",
        "\n",
        "\n",
        "# Feature Sicherheit\n",
        "label_encoder_sicherheit = LabelEncoder()\n",
        "sicherheit_classes = [\"Hoch\", \"Mittel\", \"Niedrig\"]\n",
        "label_encoder_sicherheit.fit(sicherheit_classes)\n",
        "cars[\"Sicherheit\"] = label_encoder_sicherheit.transform(cars[\"Sicherheit\"])\n",
        "\n",
        "# Feature Extras\n",
        "label_encoder_extras = LabelEncoder()\n",
        "extras_classes = [\"Hoch\", \"Mittel\", \"Niedrig\"]\n",
        "label_encoder_extras.fit(extras_classes)\n",
        "cars[\"Extras\"] = label_encoder_extras.transform(cars[\"Extras\"])\n",
        "\n",
        "# Feature Unterhaltung/Media\n",
        "label_encoder_unterhaltung = LabelEncoder()\n",
        "unterhaltung_classes = [\"Hoch\", \"Mittel\", \"Niedrig\"]\n",
        "label_encoder_unterhaltung.fit(unterhaltung_classes)\n",
        "cars[\"Unterhaltung/Media\"] = label_encoder_unterhaltung.transform(cars[\"Unterhaltung/Media\"])\n",
        "\n",
        "# Feature Fahrzeugzustand\n",
        "label_encoder_fahrzeugzustand = LabelEncoder()\n",
        "fahrzeugzustand_classes = ['fahrtauglich, nicht repariert, kein Unfallauto', 'Repariert', 'UnfallfahrzeugRepariert','Unfallfahrzeug',\n",
        "                            'Nicht fahrtauglich', 'RepariertNicht fahrtauglich', 'UnfallfahrzeugNicht fahrtauglich']\n",
        "\n",
        "label_encoder_fahrzeugzustand.fit(fahrzeugzustand_classes)\n",
        "cars[\"Fahrzeugzustand\"] = label_encoder_fahrzeugzustand.transform(cars[\"Fahrzeugzustand\"])\n",
        "\n",
        "\n",
        "# Feature Schadstoffklasse (Keine --> bspw. E-Autos)\n",
        "label_encoder_schadstoffklasse = LabelEncoder()\n",
        "schadstoffklasse_classes = ['Keine', 'Euro 1', 'Euro 2', 'Euro 3', 'Euro 4', 'Euro 5', 'Euro 6', 'Euro 6c', 'Euro 6d', 'Euro 6d-TEMP']\n",
        "\n",
        "label_encoder_schadstoffklasse.fit(schadstoffklasse_classes)\n",
        "cars[\"Schadstoffklasse\"] = label_encoder_schadstoffklasse.transform(cars[\"Schadstoffklasse\"])\n",
        "\n",
        "# Drop Ort\n",
        "cars = cars.drop(\"Ort\", axis=1)"
      ]
    },
    {
      "cell_type": "code",
      "execution_count": 52,
      "metadata": {
        "colab": {
          "base_uri": "https://localhost:8080/"
        },
        "id": "-yEkY6Vx6mhM",
        "outputId": "a81ce0ce-2ea7-489f-dae6-c24805c3a348"
      },
      "outputs": [
        {
          "data": {
            "text/plain": [
              "0        6\n",
              "1        6\n",
              "2        6\n",
              "3        6\n",
              "4        6\n",
              "        ..\n",
              "70368    5\n",
              "70369    6\n",
              "70370    6\n",
              "70371    6\n",
              "70372    6\n",
              "Name: Fahrzeugzustand, Length: 70373, dtype: int64"
            ]
          },
          "execution_count": 52,
          "metadata": {},
          "output_type": "execute_result"
        }
      ],
      "source": [
        "cars[\"Fahrzeugzustand\"]"
      ]
    },
    {
      "cell_type": "code",
      "execution_count": 71,
      "metadata": {
        "id": "ZcR_lePwuwCg"
      },
      "outputs": [],
      "source": [
        "# One Hot Encoding für binäre und nominal  Daten\n",
        "\n",
        "\n",
        "# Liste der Spalten für One-Hot-Encoding\n",
        "columns_to_encode = ['Marke', 'Modell', 'Fahrzeugart', 'Karosserieform', 'Getriebe',\n",
        "                      'Außenfarbe', 'Innenausstattung', 'Nichtraucherfahrzeug',\n",
        "                      'Scheckheftgepflegt', 'Garantie','Farbe der Innenausstattung', 'Taxi oder Mietwagen']\n",
        "\n",
        "# Führe One-Hot-Encoding für die ausgewählten Spalten durch\n",
        "cars = pd.get_dummies(cars, columns=columns_to_encode, prefix=columns_to_encode)"
      ]
    },
    {
      "cell_type": "code",
      "execution_count": 72,
      "metadata": {
        "colab": {
          "base_uri": "https://localhost:8080/"
        },
        "id": "CG9j_OcavTZ6",
        "outputId": "cfb60c98-e585-4f1f-a2ec-7b1b274c9f04"
      },
      "outputs": [
        {
          "data": {
            "text/plain": [
              "Index(['Preis', 'Kilometerstand', 'Fahrleistung p.a.', 'Türen', 'Komfort',\n",
              "       'Sicherheit', 'Extras', 'Erstzulassung', 'Unterhaltung/Media',\n",
              "       'Hubraum',\n",
              "       ...\n",
              "       'Farbe der Innenausstattung_Gelb', 'Farbe der Innenausstattung_Grau',\n",
              "       'Farbe der Innenausstattung_Grün', 'Farbe der Innenausstattung_Orange',\n",
              "       'Farbe der Innenausstattung_Rot', 'Farbe der Innenausstattung_Schwarz',\n",
              "       'Farbe der Innenausstattung_Sonstige',\n",
              "       'Farbe der Innenausstattung_Weiß', 'Taxi oder Mietwagen_Ja',\n",
              "       'Taxi oder Mietwagen_Nein'],\n",
              "      dtype='object', length=644)"
            ]
          },
          "execution_count": 72,
          "metadata": {},
          "output_type": "execute_result"
        }
      ],
      "source": [
        "cars.columns"
      ]
    },
    {
      "cell_type": "code",
      "execution_count": 74,
      "metadata": {
        "colab": {
          "base_uri": "https://localhost:8080/"
        },
        "id": "Q2D-AtCo8xy_",
        "outputId": "380f063a-e293-4b1f-9d37-8d56682e22a6"
      },
      "outputs": [
        {
          "name": "stdout",
          "output_type": "stream",
          "text": [
            "<class 'pandas.core.frame.DataFrame'>\n",
            "Int64Index: 70373 entries, 0 to 70372\n",
            "Columns: 644 entries, Preis to Taxi oder Mietwagen_Nein\n",
            "dtypes: float64(5), int64(9), uint8(630)\n",
            "memory usage: 50.3 MB\n",
            "None\n"
          ]
        }
      ],
      "source": [
        "print(cars.info())"
      ]
    },
    {
      "cell_type": "code",
      "execution_count": 75,
      "metadata": {
        "colab": {
          "base_uri": "https://localhost:8080/",
          "height": 34
        },
        "id": "aqML-q-p67ok",
        "outputId": "a55a0b4f-92d2-402e-a560-4c9e01cc0d0c"
      },
      "outputs": [
        {
          "data": {
            "application/javascript": "\n    async function download(id, filename, size) {\n      if (!google.colab.kernel.accessAllowed) {\n        return;\n      }\n      const div = document.createElement('div');\n      const label = document.createElement('label');\n      label.textContent = `Downloading \"${filename}\": `;\n      div.appendChild(label);\n      const progress = document.createElement('progress');\n      progress.max = size;\n      div.appendChild(progress);\n      document.body.appendChild(div);\n\n      const buffers = [];\n      let downloaded = 0;\n\n      const channel = await google.colab.kernel.comms.open(id);\n      // Send a message to notify the kernel that we're ready.\n      channel.send({})\n\n      for await (const message of channel.messages) {\n        // Send a message to notify the kernel that we're ready.\n        channel.send({})\n        if (message.buffers) {\n          for (const buffer of message.buffers) {\n            buffers.push(buffer);\n            downloaded += buffer.byteLength;\n            progress.value = downloaded;\n          }\n        }\n      }\n      const blob = new Blob(buffers, {type: 'application/binary'});\n      const a = document.createElement('a');\n      a.href = window.URL.createObjectURL(blob);\n      a.download = filename;\n      div.appendChild(a);\n      a.click();\n      div.remove();\n    }\n  ",
            "text/plain": [
              "<IPython.core.display.Javascript object>"
            ]
          },
          "metadata": {},
          "output_type": "display_data"
        },
        {
          "data": {
            "application/javascript": "download(\"download_a5cb6b79-0c28-4e6f-ab85-f58f2d501c62\", \"Cars_Data_Model.csv\", 93260332)",
            "text/plain": [
              "<IPython.core.display.Javascript object>"
            ]
          },
          "metadata": {},
          "output_type": "display_data"
        }
      ],
      "source": [
        "cars.to_csv('Cars_Data_Model.csv', index=True,  sep=\";\")"
      ]
    }
  ],
  "metadata": {
    "colab": {
      "provenance": []
    },
    "kernelspec": {
      "display_name": "Python 3",
      "name": "python3"
    },
    "language_info": {
      "name": "python"
    }
  },
  "nbformat": 4,
  "nbformat_minor": 0
}
