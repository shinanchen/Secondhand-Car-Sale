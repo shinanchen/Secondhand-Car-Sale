{
  "cells": [
    {
      "cell_type": "code",
      "execution_count": null,
      "metadata": {
        "id": "uu6-GPpE_Goe"
      },
      "outputs": [],
      "source": [
        "from sklearn.ensemble import GradientBoostingRegressor\n",
        "from sklearn.model_selection import GridSearchCV\n",
        "from sklearn.model_selection import train_test_split, GridSearchCV\n",
        "from sklearn.metrics import mean_squared_error, make_scorer\n",
        "import numpy as np\n",
        "from sklearn.preprocessing import RobustScaler\n",
        "import pandas as pd\n",
        "import numpy as np\n",
        "import matplotlib.pyplot as plt\n",
        "import seaborn as sns\n",
        "from sklearn.metrics import mean_absolute_percentage_error\n",
        "from sklearn.metrics import mean_absolute_error\n",
        "from sklearn.metrics import r2_score\n",
        "from sklearn.ensemble import GradientBoostingRegressor\n",
        "from sklearn.model_selection import RandomizedSearchCV\n",
        "from sklearn.metrics import make_scorer, mean_squared_error\n",
        "import numpy as np"
      ]
    },
    {
      "cell_type": "markdown",
      "metadata": {
        "id": "gYwvj5Khl-aW"
      },
      "source": [
        "# GradientBoosting"
      ]
    },
    {
      "cell_type": "markdown",
      "metadata": {},
      "source": [
        "Dieses Notizbuch umfasst einen fein abgestimmten XGBoost, Random Forest und einen Ensemble-Stacking-Ansatz. Die Einbeziehung von detailliertem Hyperparameter-Tuning und der Visualisierung von Ergebnissen deutet auf einen robusten Ansatz zur Modellentwicklung und -bewertung hin. Die Modelle werden aus der Perspektive von RMSE, MAPE, MAE, R² und Rechenkomplexität bewertet. Dieses Notizbuch legt nahe, dass RMSE das meiste Gewicht bei der Bewertung der Vorhersage eines Modells hat. Im Allgemeinen ist das bestperformende Modell der XGBoost in Bezug auf RMSE und Rechenleistung."
      ]
    },
    {
      "cell_type": "markdown",
      "metadata": {
        "id": "ccWmBp5JdOIa"
      },
      "source": [
        "## Hyperparamter Tuning"
      ]
    },
    {
      "cell_type": "code",
      "execution_count": null,
      "metadata": {
        "colab": {
          "base_uri": "https://localhost:8080/"
        },
        "id": "O_cRl6mKgriZ",
        "outputId": "e4b1411a-44c8-4abe-b894-21cb99f575f9"
      },
      "outputs": [
        {
          "name": "stdout",
          "output_type": "stream",
          "text": [
            "Drive already mounted at /content/drive; to attempt to forcibly remount, call drive.mount(\"/content/drive\", force_remount=True).\n"
          ]
        }
      ],
      "source": [
        "pd.set_option('display.max_columns', None)\n",
        "\n",
        "# Read in the data\n",
        "cars = pd.read_csv(\"Cars_Data_Model.csv\", sep=\";\", index_col=0)\n",
        "cars = cars.copy()"
      ]
    },
    {
      "cell_type": "code",
      "execution_count": null,
      "metadata": {
        "id": "R_tdGjjFgriZ"
      },
      "outputs": [],
      "source": [
        "# Behalte nur Samples mit einem Preis kleiner als 300,000 --> Ausreisser entfernen\n",
        "cars = cars[cars[\"Preis\"] < 300000]"
      ]
    },
    {
      "cell_type": "code",
      "execution_count": null,
      "metadata": {
        "id": "QOZzGU3Jgria"
      },
      "outputs": [],
      "source": [
        "# Define X and y and drop features\n",
        "X = cars.drop(\"Preis\", axis=1)\n",
        "y = cars.loc[:,\"Preis\"]\n",
        "\n",
        "\n",
        "# Define Train Test Eval\n",
        "X_train, X_rest, y_train, y_rest = train_test_split(X, y, test_size=0.3, random_state=42)\n",
        "X_val, X_test, y_val, y_test = train_test_split(X_rest, y_rest, test_size=0.5, random_state=42)\n",
        "\n",
        "y_train = np.log(y_train)\n",
        "y_test = np.log(y_test)\n",
        "y_val = np.log(y_val)\n",
        "\n",
        "# Data Scaling\n",
        "scaler = RobustScaler()\n",
        "scaler.fit(X_train)\n",
        "\n",
        "# Scale the three datasets\n",
        "X_train_scaled = scaler.transform(X_train)\n",
        "X_test_scaled = scaler.transform(X_test)\n",
        "X_val_scaled = scaler.transform(X_val)"
      ]
    },
    {
      "cell_type": "code",
      "execution_count": null,
      "metadata": {
        "id": "xxKiOd3WdS1y"
      },
      "outputs": [],
      "source": [
        "n_estimators = [100, 200, 300]\n",
        "max_depths = [3, 4, 5]\n",
        "learning_rates = [0.2, 0.3, 0.5]"
      ]
    },
    {
      "cell_type": "code",
      "execution_count": null,
      "metadata": {
        "colab": {
          "base_uri": "https://localhost:8080/"
        },
        "id": "LeHYmSDxdX5v",
        "outputId": "ae1f8446-2bdc-4616-d5bb-d588a681a464"
      },
      "outputs": [
        {
          "name": "stdout",
          "output_type": "stream",
          "text": [
            "RMSE Train: 10698.759020317142\n",
            "RMSE Val: 10729.308822668852\n",
            "RMSE Train: 9978.713374004983\n",
            "RMSE Val: 10245.632395881128\n",
            "RMSE Train: 9210.963531400117\n",
            "RMSE Val: 9644.495420590401\n",
            "RMSE Train: 9647.223662379105\n",
            "RMSE Val: 10056.184833489257\n",
            "RMSE Train: 9016.529339286137\n",
            "RMSE Val: 9407.690749604979\n",
            "RMSE Train: 8251.261846980024\n",
            "RMSE Val: 9233.626373207266\n",
            "RMSE Train: 8598.913591166769\n",
            "RMSE Val: 9074.11306913583\n",
            "RMSE Train: 8255.754628319602\n",
            "RMSE Val: 8920.6325556597\n",
            "RMSE Train: 7429.162584310596\n",
            "RMSE Val: 8570.161392447964\n",
            "RMSE Train: 9428.299104128011\n",
            "RMSE Val: 9546.11437152774\n",
            "RMSE Train: 8841.42600759516\n",
            "RMSE Val: 9219.224648559539\n",
            "RMSE Train: 8063.812115037979\n",
            "RMSE Val: 8832.796678531775\n",
            "RMSE Train: 8576.452408421843\n",
            "RMSE Val: 9083.415892742129\n",
            "RMSE Train: 7860.506434670508\n",
            "RMSE Val: 8437.758483593687\n",
            "RMSE Train: 6986.606293552373\n",
            "RMSE Val: 8545.571945058313\n",
            "RMSE Train: 7594.125843893016\n",
            "RMSE Val: 8367.294083398509\n",
            "RMSE Train: 6915.871537767831\n",
            "RMSE Val: 8207.87092561377\n",
            "RMSE Train: 6222.869060983116\n",
            "RMSE Val: 8046.156949991422\n",
            "RMSE Train: 8749.235395393054\n",
            "RMSE Val: 8969.369990398594\n",
            "RMSE Train: 8125.844872906747\n",
            "RMSE Val: 8687.165212320775\n",
            "RMSE Train: 7307.9489847566265\n",
            "RMSE Val: 8185.675587842653\n",
            "RMSE Train: 7880.424861990581\n",
            "RMSE Val: 8477.15819733878\n",
            "RMSE Train: 7072.612475448848\n",
            "RMSE Val: 7910.366433809568\n",
            "RMSE Train: 6105.41551691433\n",
            "RMSE Val: 8258.21742554208\n",
            "RMSE Train: 6876.515621279904\n",
            "RMSE Val: 7936.287803132289\n",
            "RMSE Train: 6103.529741004763\n",
            "RMSE Val: 7798.456279605667\n",
            "RMSE Train: 5375.182386905828\n",
            "RMSE Val: 7969.220302734309\n"
          ]
        }
      ],
      "source": [
        "rmse_train_list = []\n",
        "rmse_val_list = []\n",
        "parameters_list = []\n",
        "\n",
        "\n",
        "# Manual GridSearch\n",
        "for estimator in n_estimators:\n",
        "    for max_depth in max_depths:\n",
        "        for rate in learning_rates:\n",
        "\n",
        "            # Instantiate Model\n",
        "            gradient_boosting = GradientBoostingRegressor(n_estimators = estimator, max_depth = max_depth, learning_rate = rate, random_state=42)\n",
        "\n",
        "            # Fit the Model\n",
        "            gradient_boosting.fit(X_train_scaled, y_train)\n",
        "\n",
        "            # Predict\n",
        "            y_train_pred_gb = gradient_boosting.predict(X_train_scaled)\n",
        "            y_val_pred_gb = gradient_boosting.predict(X_val_scaled)\n",
        "\n",
        "\n",
        "            # Evaluate RMSE\n",
        "            rmse_train_gb = mean_squared_error(np.exp(y_train), np.exp(y_train_pred_gb), squared=False)\n",
        "            rmse_val_gb = mean_squared_error(np.exp(y_val), np.exp(y_val_pred_gb), squared=False)\n",
        "\n",
        "            # Append\n",
        "            rmse_train_list.append(rmse_train_gb)\n",
        "            rmse_val_list.append(rmse_val_gb)\n",
        "            parameters_list.append([estimator, max_depth, rate])\n",
        "\n",
        "            print(f\"RMSE Train: {rmse_train_gb}\\nRMSE Val: {rmse_val_gb}\")\n",
        "\n",
        "\n",
        "# Arrays convert to DF\n",
        "results_df = pd.DataFrame({\n",
        "    'rmse_train': rmse_train_list,\n",
        "    'rmse_val': rmse_val_list,\n",
        "    'parameters': parameters_list}).sort_values(by='rmse_val')"
      ]
    },
    {
      "cell_type": "code",
      "execution_count": null,
      "metadata": {
        "colab": {
          "base_uri": "https://localhost:8080/",
          "height": 896
        },
        "id": "heHw2VRQdcAi",
        "outputId": "1bd9f074-10a2-4180-a7d5-e0e7711b7108"
      },
      "outputs": [
        {
          "data": {
            "text/html": [
              "\n",
              "  <div id=\"df-5c656bcd-15c6-40f2-8268-c23b77feb53c\" class=\"colab-df-container\">\n",
              "    <div>\n",
              "<style scoped>\n",
              "    .dataframe tbody tr th:only-of-type {\n",
              "        vertical-align: middle;\n",
              "    }\n",
              "\n",
              "    .dataframe tbody tr th {\n",
              "        vertical-align: top;\n",
              "    }\n",
              "\n",
              "    .dataframe thead th {\n",
              "        text-align: right;\n",
              "    }\n",
              "</style>\n",
              "<table border=\"1\" class=\"dataframe\">\n",
              "  <thead>\n",
              "    <tr style=\"text-align: right;\">\n",
              "      <th></th>\n",
              "      <th>rmse_train</th>\n",
              "      <th>rmse_val</th>\n",
              "      <th>parameters</th>\n",
              "      <th>delta</th>\n",
              "    </tr>\n",
              "  </thead>\n",
              "  <tbody>\n",
              "    <tr>\n",
              "      <th>25</th>\n",
              "      <td>6103.529741</td>\n",
              "      <td>7798.456280</td>\n",
              "      <td>[300, 5, 0.3]</td>\n",
              "      <td>1694.926539</td>\n",
              "    </tr>\n",
              "    <tr>\n",
              "      <th>22</th>\n",
              "      <td>7072.612475</td>\n",
              "      <td>7910.366434</td>\n",
              "      <td>[300, 4, 0.3]</td>\n",
              "      <td>837.753958</td>\n",
              "    </tr>\n",
              "    <tr>\n",
              "      <th>24</th>\n",
              "      <td>6876.515621</td>\n",
              "      <td>7936.287803</td>\n",
              "      <td>[300, 5, 0.2]</td>\n",
              "      <td>1059.772182</td>\n",
              "    </tr>\n",
              "    <tr>\n",
              "      <th>26</th>\n",
              "      <td>5375.182387</td>\n",
              "      <td>7969.220303</td>\n",
              "      <td>[300, 5, 0.5]</td>\n",
              "      <td>2594.037916</td>\n",
              "    </tr>\n",
              "    <tr>\n",
              "      <th>17</th>\n",
              "      <td>6222.869061</td>\n",
              "      <td>8046.156950</td>\n",
              "      <td>[200, 5, 0.5]</td>\n",
              "      <td>1823.287889</td>\n",
              "    </tr>\n",
              "    <tr>\n",
              "      <th>20</th>\n",
              "      <td>7307.948985</td>\n",
              "      <td>8185.675588</td>\n",
              "      <td>[300, 3, 0.5]</td>\n",
              "      <td>877.726603</td>\n",
              "    </tr>\n",
              "    <tr>\n",
              "      <th>16</th>\n",
              "      <td>6915.871538</td>\n",
              "      <td>8207.870926</td>\n",
              "      <td>[200, 5, 0.3]</td>\n",
              "      <td>1291.999388</td>\n",
              "    </tr>\n",
              "    <tr>\n",
              "      <th>23</th>\n",
              "      <td>6105.415517</td>\n",
              "      <td>8258.217426</td>\n",
              "      <td>[300, 4, 0.5]</td>\n",
              "      <td>2152.801909</td>\n",
              "    </tr>\n",
              "    <tr>\n",
              "      <th>15</th>\n",
              "      <td>7594.125844</td>\n",
              "      <td>8367.294083</td>\n",
              "      <td>[200, 5, 0.2]</td>\n",
              "      <td>773.168240</td>\n",
              "    </tr>\n",
              "    <tr>\n",
              "      <th>13</th>\n",
              "      <td>7860.506435</td>\n",
              "      <td>8437.758484</td>\n",
              "      <td>[200, 4, 0.3]</td>\n",
              "      <td>577.252049</td>\n",
              "    </tr>\n",
              "    <tr>\n",
              "      <th>21</th>\n",
              "      <td>7880.424862</td>\n",
              "      <td>8477.158197</td>\n",
              "      <td>[300, 4, 0.2]</td>\n",
              "      <td>596.733335</td>\n",
              "    </tr>\n",
              "    <tr>\n",
              "      <th>14</th>\n",
              "      <td>6986.606294</td>\n",
              "      <td>8545.571945</td>\n",
              "      <td>[200, 4, 0.5]</td>\n",
              "      <td>1558.965652</td>\n",
              "    </tr>\n",
              "    <tr>\n",
              "      <th>8</th>\n",
              "      <td>7429.162584</td>\n",
              "      <td>8570.161392</td>\n",
              "      <td>[100, 5, 0.5]</td>\n",
              "      <td>1140.998808</td>\n",
              "    </tr>\n",
              "    <tr>\n",
              "      <th>19</th>\n",
              "      <td>8125.844873</td>\n",
              "      <td>8687.165212</td>\n",
              "      <td>[300, 3, 0.3]</td>\n",
              "      <td>561.320339</td>\n",
              "    </tr>\n",
              "    <tr>\n",
              "      <th>11</th>\n",
              "      <td>8063.812115</td>\n",
              "      <td>8832.796679</td>\n",
              "      <td>[200, 3, 0.5]</td>\n",
              "      <td>768.984563</td>\n",
              "    </tr>\n",
              "    <tr>\n",
              "      <th>7</th>\n",
              "      <td>8255.754628</td>\n",
              "      <td>8920.632556</td>\n",
              "      <td>[100, 5, 0.3]</td>\n",
              "      <td>664.877927</td>\n",
              "    </tr>\n",
              "    <tr>\n",
              "      <th>18</th>\n",
              "      <td>8749.235395</td>\n",
              "      <td>8969.369990</td>\n",
              "      <td>[300, 3, 0.2]</td>\n",
              "      <td>220.134595</td>\n",
              "    </tr>\n",
              "    <tr>\n",
              "      <th>6</th>\n",
              "      <td>8598.913591</td>\n",
              "      <td>9074.113069</td>\n",
              "      <td>[100, 5, 0.2]</td>\n",
              "      <td>475.199478</td>\n",
              "    </tr>\n",
              "    <tr>\n",
              "      <th>12</th>\n",
              "      <td>8576.452408</td>\n",
              "      <td>9083.415893</td>\n",
              "      <td>[200, 4, 0.2]</td>\n",
              "      <td>506.963484</td>\n",
              "    </tr>\n",
              "    <tr>\n",
              "      <th>10</th>\n",
              "      <td>8841.426008</td>\n",
              "      <td>9219.224649</td>\n",
              "      <td>[200, 3, 0.3]</td>\n",
              "      <td>377.798641</td>\n",
              "    </tr>\n",
              "    <tr>\n",
              "      <th>5</th>\n",
              "      <td>8251.261847</td>\n",
              "      <td>9233.626373</td>\n",
              "      <td>[100, 4, 0.5]</td>\n",
              "      <td>982.364526</td>\n",
              "    </tr>\n",
              "    <tr>\n",
              "      <th>4</th>\n",
              "      <td>9016.529339</td>\n",
              "      <td>9407.690750</td>\n",
              "      <td>[100, 4, 0.3]</td>\n",
              "      <td>391.161410</td>\n",
              "    </tr>\n",
              "    <tr>\n",
              "      <th>9</th>\n",
              "      <td>9428.299104</td>\n",
              "      <td>9546.114372</td>\n",
              "      <td>[200, 3, 0.2]</td>\n",
              "      <td>117.815267</td>\n",
              "    </tr>\n",
              "    <tr>\n",
              "      <th>2</th>\n",
              "      <td>9210.963531</td>\n",
              "      <td>9644.495421</td>\n",
              "      <td>[100, 3, 0.5]</td>\n",
              "      <td>433.531889</td>\n",
              "    </tr>\n",
              "    <tr>\n",
              "      <th>3</th>\n",
              "      <td>9647.223662</td>\n",
              "      <td>10056.184833</td>\n",
              "      <td>[100, 4, 0.2]</td>\n",
              "      <td>408.961171</td>\n",
              "    </tr>\n",
              "    <tr>\n",
              "      <th>1</th>\n",
              "      <td>9978.713374</td>\n",
              "      <td>10245.632396</td>\n",
              "      <td>[100, 3, 0.3]</td>\n",
              "      <td>266.919022</td>\n",
              "    </tr>\n",
              "    <tr>\n",
              "      <th>0</th>\n",
              "      <td>10698.759020</td>\n",
              "      <td>10729.308823</td>\n",
              "      <td>[100, 3, 0.2]</td>\n",
              "      <td>30.549802</td>\n",
              "    </tr>\n",
              "  </tbody>\n",
              "</table>\n",
              "</div>\n",
              "    <div class=\"colab-df-buttons\">\n",
              "\n",
              "  <div class=\"colab-df-container\">\n",
              "    <button class=\"colab-df-convert\" onclick=\"convertToInteractive('df-5c656bcd-15c6-40f2-8268-c23b77feb53c')\"\n",
              "            title=\"Convert this dataframe to an interactive table.\"\n",
              "            style=\"display:none;\">\n",
              "\n",
              "  <svg xmlns=\"http://www.w3.org/2000/svg\" height=\"24px\" viewBox=\"0 -960 960 960\">\n",
              "    <path d=\"M120-120v-720h720v720H120Zm60-500h600v-160H180v160Zm220 220h160v-160H400v160Zm0 220h160v-160H400v160ZM180-400h160v-160H180v160Zm440 0h160v-160H620v160ZM180-180h160v-160H180v160Zm440 0h160v-160H620v160Z\"/>\n",
              "  </svg>\n",
              "    </button>\n",
              "\n",
              "  <style>\n",
              "    .colab-df-container {\n",
              "      display:flex;\n",
              "      gap: 12px;\n",
              "    }\n",
              "\n",
              "    .colab-df-convert {\n",
              "      background-color: #E8F0FE;\n",
              "      border: none;\n",
              "      border-radius: 50%;\n",
              "      cursor: pointer;\n",
              "      display: none;\n",
              "      fill: #1967D2;\n",
              "      height: 32px;\n",
              "      padding: 0 0 0 0;\n",
              "      width: 32px;\n",
              "    }\n",
              "\n",
              "    .colab-df-convert:hover {\n",
              "      background-color: #E2EBFA;\n",
              "      box-shadow: 0px 1px 2px rgba(60, 64, 67, 0.3), 0px 1px 3px 1px rgba(60, 64, 67, 0.15);\n",
              "      fill: #174EA6;\n",
              "    }\n",
              "\n",
              "    .colab-df-buttons div {\n",
              "      margin-bottom: 4px;\n",
              "    }\n",
              "\n",
              "    [theme=dark] .colab-df-convert {\n",
              "      background-color: #3B4455;\n",
              "      fill: #D2E3FC;\n",
              "    }\n",
              "\n",
              "    [theme=dark] .colab-df-convert:hover {\n",
              "      background-color: #434B5C;\n",
              "      box-shadow: 0px 1px 3px 1px rgba(0, 0, 0, 0.15);\n",
              "      filter: drop-shadow(0px 1px 2px rgba(0, 0, 0, 0.3));\n",
              "      fill: #FFFFFF;\n",
              "    }\n",
              "  </style>\n",
              "\n",
              "    <script>\n",
              "      const buttonEl =\n",
              "        document.querySelector('#df-5c656bcd-15c6-40f2-8268-c23b77feb53c button.colab-df-convert');\n",
              "      buttonEl.style.display =\n",
              "        google.colab.kernel.accessAllowed ? 'block' : 'none';\n",
              "\n",
              "      async function convertToInteractive(key) {\n",
              "        const element = document.querySelector('#df-5c656bcd-15c6-40f2-8268-c23b77feb53c');\n",
              "        const dataTable =\n",
              "          await google.colab.kernel.invokeFunction('convertToInteractive',\n",
              "                                                    [key], {});\n",
              "        if (!dataTable) return;\n",
              "\n",
              "        const docLinkHtml = 'Like what you see? Visit the ' +\n",
              "          '<a target=\"_blank\" href=https://colab.research.google.com/notebooks/data_table.ipynb>data table notebook</a>'\n",
              "          + ' to learn more about interactive tables.';\n",
              "        element.innerHTML = '';\n",
              "        dataTable['output_type'] = 'display_data';\n",
              "        await google.colab.output.renderOutput(dataTable, element);\n",
              "        const docLink = document.createElement('div');\n",
              "        docLink.innerHTML = docLinkHtml;\n",
              "        element.appendChild(docLink);\n",
              "      }\n",
              "    </script>\n",
              "  </div>\n",
              "\n",
              "\n",
              "<div id=\"df-5205a79d-2c48-46be-887d-b1a44288a0c4\">\n",
              "  <button class=\"colab-df-quickchart\" onclick=\"quickchart('df-5205a79d-2c48-46be-887d-b1a44288a0c4')\"\n",
              "            title=\"Suggest charts\"\n",
              "            style=\"display:none;\">\n",
              "\n",
              "<svg xmlns=\"http://www.w3.org/2000/svg\" height=\"24px\"viewBox=\"0 0 24 24\"\n",
              "     width=\"24px\">\n",
              "    <g>\n",
              "        <path d=\"M19 3H5c-1.1 0-2 .9-2 2v14c0 1.1.9 2 2 2h14c1.1 0 2-.9 2-2V5c0-1.1-.9-2-2-2zM9 17H7v-7h2v7zm4 0h-2V7h2v10zm4 0h-2v-4h2v4z\"/>\n",
              "    </g>\n",
              "</svg>\n",
              "  </button>\n",
              "\n",
              "<style>\n",
              "  .colab-df-quickchart {\n",
              "      --bg-color: #E8F0FE;\n",
              "      --fill-color: #1967D2;\n",
              "      --hover-bg-color: #E2EBFA;\n",
              "      --hover-fill-color: #174EA6;\n",
              "      --disabled-fill-color: #AAA;\n",
              "      --disabled-bg-color: #DDD;\n",
              "  }\n",
              "\n",
              "  [theme=dark] .colab-df-quickchart {\n",
              "      --bg-color: #3B4455;\n",
              "      --fill-color: #D2E3FC;\n",
              "      --hover-bg-color: #434B5C;\n",
              "      --hover-fill-color: #FFFFFF;\n",
              "      --disabled-bg-color: #3B4455;\n",
              "      --disabled-fill-color: #666;\n",
              "  }\n",
              "\n",
              "  .colab-df-quickchart {\n",
              "    background-color: var(--bg-color);\n",
              "    border: none;\n",
              "    border-radius: 50%;\n",
              "    cursor: pointer;\n",
              "    display: none;\n",
              "    fill: var(--fill-color);\n",
              "    height: 32px;\n",
              "    padding: 0;\n",
              "    width: 32px;\n",
              "  }\n",
              "\n",
              "  .colab-df-quickchart:hover {\n",
              "    background-color: var(--hover-bg-color);\n",
              "    box-shadow: 0 1px 2px rgba(60, 64, 67, 0.3), 0 1px 3px 1px rgba(60, 64, 67, 0.15);\n",
              "    fill: var(--button-hover-fill-color);\n",
              "  }\n",
              "\n",
              "  .colab-df-quickchart-complete:disabled,\n",
              "  .colab-df-quickchart-complete:disabled:hover {\n",
              "    background-color: var(--disabled-bg-color);\n",
              "    fill: var(--disabled-fill-color);\n",
              "    box-shadow: none;\n",
              "  }\n",
              "\n",
              "  .colab-df-spinner {\n",
              "    border: 2px solid var(--fill-color);\n",
              "    border-color: transparent;\n",
              "    border-bottom-color: var(--fill-color);\n",
              "    animation:\n",
              "      spin 1s steps(1) infinite;\n",
              "  }\n",
              "\n",
              "  @keyframes spin {\n",
              "    0% {\n",
              "      border-color: transparent;\n",
              "      border-bottom-color: var(--fill-color);\n",
              "      border-left-color: var(--fill-color);\n",
              "    }\n",
              "    20% {\n",
              "      border-color: transparent;\n",
              "      border-left-color: var(--fill-color);\n",
              "      border-top-color: var(--fill-color);\n",
              "    }\n",
              "    30% {\n",
              "      border-color: transparent;\n",
              "      border-left-color: var(--fill-color);\n",
              "      border-top-color: var(--fill-color);\n",
              "      border-right-color: var(--fill-color);\n",
              "    }\n",
              "    40% {\n",
              "      border-color: transparent;\n",
              "      border-right-color: var(--fill-color);\n",
              "      border-top-color: var(--fill-color);\n",
              "    }\n",
              "    60% {\n",
              "      border-color: transparent;\n",
              "      border-right-color: var(--fill-color);\n",
              "    }\n",
              "    80% {\n",
              "      border-color: transparent;\n",
              "      border-right-color: var(--fill-color);\n",
              "      border-bottom-color: var(--fill-color);\n",
              "    }\n",
              "    90% {\n",
              "      border-color: transparent;\n",
              "      border-bottom-color: var(--fill-color);\n",
              "    }\n",
              "  }\n",
              "</style>\n",
              "\n",
              "  <script>\n",
              "    async function quickchart(key) {\n",
              "      const quickchartButtonEl =\n",
              "        document.querySelector('#' + key + ' button');\n",
              "      quickchartButtonEl.disabled = true;  // To prevent multiple clicks.\n",
              "      quickchartButtonEl.classList.add('colab-df-spinner');\n",
              "      try {\n",
              "        const charts = await google.colab.kernel.invokeFunction(\n",
              "            'suggestCharts', [key], {});\n",
              "      } catch (error) {\n",
              "        console.error('Error during call to suggestCharts:', error);\n",
              "      }\n",
              "      quickchartButtonEl.classList.remove('colab-df-spinner');\n",
              "      quickchartButtonEl.classList.add('colab-df-quickchart-complete');\n",
              "    }\n",
              "    (() => {\n",
              "      let quickchartButtonEl =\n",
              "        document.querySelector('#df-5205a79d-2c48-46be-887d-b1a44288a0c4 button');\n",
              "      quickchartButtonEl.style.display =\n",
              "        google.colab.kernel.accessAllowed ? 'block' : 'none';\n",
              "    })();\n",
              "  </script>\n",
              "</div>\n",
              "    </div>\n",
              "  </div>\n"
            ],
            "text/plain": [
              "      rmse_train      rmse_val     parameters        delta\n",
              "25   6103.529741   7798.456280  [300, 5, 0.3]  1694.926539\n",
              "22   7072.612475   7910.366434  [300, 4, 0.3]   837.753958\n",
              "24   6876.515621   7936.287803  [300, 5, 0.2]  1059.772182\n",
              "26   5375.182387   7969.220303  [300, 5, 0.5]  2594.037916\n",
              "17   6222.869061   8046.156950  [200, 5, 0.5]  1823.287889\n",
              "20   7307.948985   8185.675588  [300, 3, 0.5]   877.726603\n",
              "16   6915.871538   8207.870926  [200, 5, 0.3]  1291.999388\n",
              "23   6105.415517   8258.217426  [300, 4, 0.5]  2152.801909\n",
              "15   7594.125844   8367.294083  [200, 5, 0.2]   773.168240\n",
              "13   7860.506435   8437.758484  [200, 4, 0.3]   577.252049\n",
              "21   7880.424862   8477.158197  [300, 4, 0.2]   596.733335\n",
              "14   6986.606294   8545.571945  [200, 4, 0.5]  1558.965652\n",
              "8    7429.162584   8570.161392  [100, 5, 0.5]  1140.998808\n",
              "19   8125.844873   8687.165212  [300, 3, 0.3]   561.320339\n",
              "11   8063.812115   8832.796679  [200, 3, 0.5]   768.984563\n",
              "7    8255.754628   8920.632556  [100, 5, 0.3]   664.877927\n",
              "18   8749.235395   8969.369990  [300, 3, 0.2]   220.134595\n",
              "6    8598.913591   9074.113069  [100, 5, 0.2]   475.199478\n",
              "12   8576.452408   9083.415893  [200, 4, 0.2]   506.963484\n",
              "10   8841.426008   9219.224649  [200, 3, 0.3]   377.798641\n",
              "5    8251.261847   9233.626373  [100, 4, 0.5]   982.364526\n",
              "4    9016.529339   9407.690750  [100, 4, 0.3]   391.161410\n",
              "9    9428.299104   9546.114372  [200, 3, 0.2]   117.815267\n",
              "2    9210.963531   9644.495421  [100, 3, 0.5]   433.531889\n",
              "3    9647.223662  10056.184833  [100, 4, 0.2]   408.961171\n",
              "1    9978.713374  10245.632396  [100, 3, 0.3]   266.919022\n",
              "0   10698.759020  10729.308823  [100, 3, 0.2]    30.549802"
            ]
          },
          "execution_count": 22,
          "metadata": {},
          "output_type": "execute_result"
        }
      ],
      "source": [
        "results_df[\"delta\"] = results_df[\"rmse_val\"] - results_df[\"rmse_train\"]\n",
        "results_df"
      ]
    },
    {
      "cell_type": "markdown",
      "metadata": {
        "id": "-b-lqdMsoz3C"
      },
      "source": [
        "Optimale Kombination: [300, 4, 0.3]\n",
        "\n"
      ]
    },
    {
      "cell_type": "markdown",
      "metadata": {
        "id": "5PaqDhT8pITK"
      },
      "source": [
        "Als Veranschaulichung; wie durch die Log-Transformation der Zielvariable/Target sich die Verteilung einer Nonrmalverteilung annähert:"
      ]
    },
    {
      "cell_type": "code",
      "execution_count": null,
      "metadata": {
        "colab": {
          "base_uri": "https://localhost:8080/",
          "height": 515
        },
        "id": "gILtGoNDHWGI",
        "outputId": "ab7b1351-3af8-4529-fc2a-466d9c774664"
      },
      "outputs": [
        {
          "data": {
            "image/png": "[encoded data removed]",
            "text/plain": [
              "<Figure size 800x600 with 1 Axes>"
            ]
          },
          "metadata": {},
          "output_type": "display_data"
        }
      ],
      "source": [
        "import numpy as np\n",
        "import pandas as pd\n",
        "import matplotlib.pyplot as plt\n",
        "\n",
        "\n",
        "# Annahme: y ist eine Pandas Series\n",
        "# Hier ein Beispiel mit zufälligen Daten:\n",
        "np.random.seed(42)\n",
        "y = np.random.normal(loc=0, scale=1, size=1000)\n",
        "\n",
        "# Erstelle eine Pandas Series\n",
        "y_series = pd.Series(y)\n",
        "\n",
        "# Plot mit Matplotlib\n",
        "plt.figure(figsize=(8, 6))\n",
        "plt.hist(y_series, bins=30, density=True, alpha=0.7, color='blue', edgecolor='black')\n",
        "plt.title('Verteilung von y')\n",
        "plt.xlabel('Werte von y')\n",
        "plt.ylabel('Häufigkeit')\n",
        "plt.show()\n",
        "\n",
        "\n"
      ]
    },
    {
      "cell_type": "markdown",
      "metadata": {
        "id": "zvq3NW0-pPBx"
      },
      "source": [
        "## Model Training and Evaluation"
      ]
    },
    {
      "cell_type": "code",
      "execution_count": null,
      "metadata": {
        "colab": {
          "base_uri": "https://localhost:8080/",
          "height": 92
        },
        "id": "86KBFJET_JiG",
        "outputId": "09d4e4f4-9873-4df3-e71f-8774991f3b69"
      },
      "outputs": [
        {
          "data": {
            "text/html": [
              "<style>#sk-container-id-2 {color: black;background-color: white;}#sk-container-id-2 pre{padding: 0;}#sk-container-id-2 div.sk-toggleable {background-color: white;}#sk-container-id-2 label.sk-toggleable__label {cursor: pointer;display: block;width: 100%;margin-bottom: 0;padding: 0.3em;box-sizing: border-box;text-align: center;}#sk-container-id-2 label.sk-toggleable__label-arrow:before {content: \"▸\";float: left;margin-right: 0.25em;color: #696969;}#sk-container-id-2 label.sk-toggleable__label-arrow:hover:before {color: black;}#sk-container-id-2 div.sk-estimator:hover label.sk-toggleable__label-arrow:before {color: black;}#sk-container-id-2 div.sk-toggleable__content {max-height: 0;max-width: 0;overflow: hidden;text-align: left;background-color: #f0f8ff;}#sk-container-id-2 div.sk-toggleable__content pre {margin: 0.2em;color: black;border-radius: 0.25em;background-color: #f0f8ff;}#sk-container-id-2 input.sk-toggleable__control:checked~div.sk-toggleable__content {max-height: 200px;max-width: 100%;overflow: auto;}#sk-container-id-2 input.sk-toggleable__control:checked~label.sk-toggleable__label-arrow:before {content: \"▾\";}#sk-container-id-2 div.sk-estimator input.sk-toggleable__control:checked~label.sk-toggleable__label {background-color: #d4ebff;}#sk-container-id-2 div.sk-label input.sk-toggleable__control:checked~label.sk-toggleable__label {background-color: #d4ebff;}#sk-container-id-2 input.sk-hidden--visually {border: 0;clip: rect(1px 1px 1px 1px);clip: rect(1px, 1px, 1px, 1px);height: 1px;margin: -1px;overflow: hidden;padding: 0;position: absolute;width: 1px;}#sk-container-id-2 div.sk-estimator {font-family: monospace;background-color: #f0f8ff;border: 1px dotted black;border-radius: 0.25em;box-sizing: border-box;margin-bottom: 0.5em;}#sk-container-id-2 div.sk-estimator:hover {background-color: #d4ebff;}#sk-container-id-2 div.sk-parallel-item::after {content: \"\";width: 100%;border-bottom: 1px solid gray;flex-grow: 1;}#sk-container-id-2 div.sk-label:hover label.sk-toggleable__label {background-color: #d4ebff;}#sk-container-id-2 div.sk-serial::before {content: \"\";position: absolute;border-left: 1px solid gray;box-sizing: border-box;top: 0;bottom: 0;left: 50%;z-index: 0;}#sk-container-id-2 div.sk-serial {display: flex;flex-direction: column;align-items: center;background-color: white;padding-right: 0.2em;padding-left: 0.2em;position: relative;}#sk-container-id-2 div.sk-item {position: relative;z-index: 1;}#sk-container-id-2 div.sk-parallel {display: flex;align-items: stretch;justify-content: center;background-color: white;position: relative;}#sk-container-id-2 div.sk-item::before, #sk-container-id-2 div.sk-parallel-item::before {content: \"\";position: absolute;border-left: 1px solid gray;box-sizing: border-box;top: 0;bottom: 0;left: 50%;z-index: -1;}#sk-container-id-2 div.sk-parallel-item {display: flex;flex-direction: column;z-index: 1;position: relative;background-color: white;}#sk-container-id-2 div.sk-parallel-item:first-child::after {align-self: flex-end;width: 50%;}#sk-container-id-2 div.sk-parallel-item:last-child::after {align-self: flex-start;width: 50%;}#sk-container-id-2 div.sk-parallel-item:only-child::after {width: 0;}#sk-container-id-2 div.sk-dashed-wrapped {border: 1px dashed gray;margin: 0 0.4em 0.5em 0.4em;box-sizing: border-box;padding-bottom: 0.4em;background-color: white;}#sk-container-id-2 div.sk-label label {font-family: monospace;font-weight: bold;display: inline-block;line-height: 1.2em;}#sk-container-id-2 div.sk-label-container {text-align: center;}#sk-container-id-2 div.sk-container {/* jupyter's `normalize.less` sets `[hidden] { display: none; }` but bootstrap.min.css set `[hidden] { display: none !important; }` so we also need the `!important` here to be able to override the default hidden behavior on the sphinx rendered scikit-learn.org. See: https://github.com/scikit-learn/scikit-learn/issues/21755 */display: inline-block !important;position: relative;}#sk-container-id-2 div.sk-text-repr-fallback {display: none;}</style><div id=\"sk-container-id-2\" class=\"sk-top-container\"><div class=\"sk-text-repr-fallback\"><pre>GradientBoostingRegressor(learning_rate=0.3, max_depth=4, n_estimators=300,\n",
              "                          random_state=42)</pre><b>In a Jupyter environment, please rerun this cell to show the HTML representation or trust the notebook. <br />On GitHub, the HTML representation is unable to render, please try loading this page with nbviewer.org.</b></div><div class=\"sk-container\" hidden><div class=\"sk-item\"><div class=\"sk-estimator sk-toggleable\"><input class=\"sk-toggleable__control sk-hidden--visually\" id=\"sk-estimator-id-2\" type=\"checkbox\" checked><label for=\"sk-estimator-id-2\" class=\"sk-toggleable__label sk-toggleable__label-arrow\">GradientBoostingRegressor</label><div class=\"sk-toggleable__content\"><pre>GradientBoostingRegressor(learning_rate=0.3, max_depth=4, n_estimators=300,\n",
              "                          random_state=42)</pre></div></div></div></div></div>"
            ],
            "text/plain": [
              "GradientBoostingRegressor(learning_rate=0.3, max_depth=4, n_estimators=300,\n",
              "                          random_state=42)"
            ]
          },
          "execution_count": 15,
          "metadata": {},
          "output_type": "execute_result"
        }
      ],
      "source": [
        "# Instantiate Model\n",
        "gradient_boosting = GradientBoostingRegressor(n_estimators = 300, max_depth = 5, learning_rate = 0.3, random_state=42)\n",
        "\n",
        "# Fit the Model\n",
        "gradient_boosting.fit(X_train_scaled, y_train)"
      ]
    },
    {
      "cell_type": "code",
      "execution_count": null,
      "metadata": {
        "colab": {
          "base_uri": "https://localhost:8080/"
        },
        "id": "FIjS6vEdRttJ",
        "outputId": "afa79134-1c3e-43aa-8e68-8269b9801030"
      },
      "outputs": [
        {
          "name": "stdout",
          "output_type": "stream",
          "text": [
            "RMSE Train: 7072.612475448848\n",
            "RMSE Val: 7910.366433809568\n",
            "RMSE Test: 9676.748496591717\n",
            "\n",
            "MAPE Train: 0.13041363191576902\n",
            "MAPE Val: 0.1476504185352258\n",
            "MAPE Test: 0.1474435611081108\n",
            "\n",
            "MAE Train: 3849.202877383302\n",
            "MAE Val: 4130.44917013345\n",
            "MAE Test: 4471.623655756112\n",
            "\n",
            "R^2 Train: 0.9372401691701623\n",
            "R^2 Val: 0.9195139999078847\n",
            "R^2 Test: 0.8865245701980526\n"
          ]
        }
      ],
      "source": [
        "# Predict/Vorhersagen\n",
        "y_train_pred_gb = gradient_boosting.predict(X_train_scaled)\n",
        "y_val_pred_gb = gradient_boosting.predict(X_val_scaled)\n",
        "y_test_pred_gb = gradient_boosting.predict(X_test_scaled)\n",
        "\n",
        "\n",
        "# Berechnen von RMSE\n",
        "rmse_train_gb = mean_squared_error(np.exp(y_train), np.exp(y_train_pred_gb), squared=False)\n",
        "rmse_test_gb = mean_squared_error(np.exp(y_test), np.exp(y_test_pred_gb), squared=False)\n",
        "rmse_val_gb = mean_squared_error(np.exp(y_val), np.exp(y_val_pred_gb), squared=False)\n",
        "print(f\"RMSE Train: {rmse_train_gb}\\nRMSE Val: {rmse_val_gb}\\nRMSE Test: {rmse_test_gb}\")\n",
        "\n",
        "print()\n",
        "\n",
        "# Berechnen von MAPE\n",
        "mape_train_gb = mean_absolute_percentage_error(np.exp(y_train), np.exp(y_train_pred_gb))\n",
        "mape_val_gb = mean_absolute_percentage_error(np.exp(y_val), np.exp(y_val_pred_gb))\n",
        "mape_test_gb = mean_absolute_percentage_error(np.exp(y_test), np.exp(y_test_pred_gb))\n",
        "print(f\"MAPE Train: {mape_train_gb}\\nMAPE Val: {mape_val_gb}\\nMAPE Test: {mape_test_gb}\")\n",
        "\n",
        "print()\n",
        "\n",
        "# Berechnen von MAE\n",
        "mae_train_gb = mean_absolute_error(np.exp(y_train), np.exp(y_train_pred_gb))\n",
        "mae_val_gb = mean_absolute_error(np.exp(y_val), np.exp(y_val_pred_gb))\n",
        "mae_test_gb = mean_absolute_error(np.exp(y_test), np.exp(y_test_pred_gb))\n",
        "print(f\"MAE Train: {mae_train_gb}\\nMAE Val: {mae_val_gb}\\nMAE Test: {mae_test_gb}\")\n",
        "\n",
        "\n",
        "\n",
        "print()\n",
        "\n",
        "# Berechnen von R^2\n",
        "r2_train_gb = r2_score(np.exp(y_train), np.exp(y_train_pred_gb))\n",
        "r2_val_gb = r2_score(np.exp(y_val), np.exp(y_val_pred_gb))\n",
        "r2_test_gb = r2_score(np.exp(y_test), np.exp(y_test_pred_gb))\n",
        "\n",
        "print(f\"R^2 Train: {r2_train_gb}\\nR^2 Val: {r2_val_gb}\\nR^2 Test: {r2_test_gb}\")\n"
      ]
    },
    {
      "cell_type": "code",
      "execution_count": null,
      "metadata": {
        "colab": {
          "base_uri": "https://localhost:8080/",
          "height": 643
        },
        "id": "IOukV5-1CLRu",
        "outputId": "f3456dc0-520e-4fb7-b01f-d5c14ccb2b83"
      },
      "outputs": [
        {
          "data": {
            "image/png": "[encoded data removed]",
            "text/plain": [
              "<Figure size 1500x750 with 1 Axes>"
            ]
          },
          "metadata": {},
          "output_type": "display_data"
        }
      ],
      "source": [
        "import numpy as np\n",
        "import matplotlib.pyplot as plt\n",
        "\n",
        "# Umkehrung der Logarithmustransformation\n",
        "y_test_original = np.exp(y_test)\n",
        "y_test_pred_original = np.exp(y_test_pred_gb)\n",
        "\n",
        "# Bestimmung der minimalen und maximalen Werte\n",
        "min_value = np.array([y_test_original.min(), y_test_pred_original.min()]).min()\n",
        "max_value = np.array([y_test_original.max(), y_test_pred_original.max()]).max()\n",
        "\n",
        "# Erstellen des Plots\n",
        "fig, ax = plt.subplots(figsize=(10, 5), dpi=150)\n",
        "ax.scatter(y_test_original, y_test_pred_original, color=\"blue\")\n",
        "ax.plot([min_value, max_value], [min_value, max_value], lw=4, color=\"grey\")\n",
        "\n",
        "ax.set_title(\"Actual vs Predicted Plot\", fontweight=\"bold\")\n",
        "ax.set_xlabel('Actual (y)', fontweight=\"bold\")\n",
        "ax.set_ylabel('Predicted (ŷ)', fontweight=\"bold\")\n",
        "\n",
        "plt.show()\n"
      ]
    },
    {
      "cell_type": "markdown",
      "metadata": {
        "id": "pvDkOCOC-Oua"
      },
      "source": [
        "# Random Forest"
      ]
    },
    {
      "cell_type": "markdown",
      "metadata": {
        "id": "iaqqpbaKm_vo"
      },
      "source": [
        "## Hyperparameter Tuning, Model Training und Evaluation"
      ]
    },
    {
      "cell_type": "code",
      "execution_count": null,
      "metadata": {
        "id": "kr5DBJyK-RqE"
      },
      "outputs": [],
      "source": [
        "from sklearn.ensemble import RandomForestRegressor\n",
        "from sklearn.model_selection import RandomizedSearchCV\n",
        "from sklearn.metrics import make_scorer, mean_squared_error\n",
        "import numpy as np"
      ]
    },
    {
      "cell_type": "code",
      "execution_count": null,
      "metadata": {
        "colab": {
          "base_uri": "https://localhost:8080/"
        },
        "id": "pCCiNVFz-V38",
        "outputId": "374520d6-2927-43ff-8ff8-ce2173792e49"
      },
      "outputs": [
        {
          "name": "stdout",
          "output_type": "stream",
          "text": [
            "Drive already mounted at /content/drive; to attempt to forcibly remount, call drive.mount(\"/content/drive\", force_remount=True).\n"
          ]
        }
      ],
      "source": [
        "# Mount Google Drive\n",
        "from google.colab import drive\n",
        "drive.mount('/content/drive')\n",
        "\n",
        "pd.set_option('display.max_columns', None)\n",
        "\n",
        "# Read in the data\n",
        "cars = pd.read_csv(\"/content/drive/MyDrive/Colab Notebooks/Business Analytics/Project/data/final/Cars_Data_Model.csv\", sep=\";\", index_col=0)\n",
        "cars = cars.copy()"
      ]
    },
    {
      "cell_type": "code",
      "execution_count": null,
      "metadata": {
        "id": "Por1bopZ-V3-"
      },
      "outputs": [],
      "source": [
        "# Behalte nur Samples mit einem Preis kleiner als 300,000 --> Ausreisser entfernen\n",
        "cars = cars[cars[\"Preis\"] < 300000]"
      ]
    },
    {
      "cell_type": "code",
      "execution_count": null,
      "metadata": {
        "id": "xbHe2XFj-V3-"
      },
      "outputs": [],
      "source": [
        "# Define X and y and drop features\n",
        "X = cars.drop(\"Preis\", axis=1)\n",
        "y = cars.loc[:,\"Preis\"]\n",
        "\n",
        "\n",
        "# Define Train Test Eval\n",
        "X_train, X_rest, y_train, y_rest = train_test_split(X, y, test_size=0.3, random_state=42)\n",
        "X_val, X_test, y_val, y_test = train_test_split(X_rest, y_rest, test_size=0.5, random_state=42)\n",
        "\n",
        "y_train = np.log(y_train)\n",
        "y_test = np.log(y_test)\n",
        "y_val = np.log(y_val)\n",
        "\n",
        "# Data Scaling\n",
        "scaler = RobustScaler()\n",
        "scaler.fit(X_train)\n",
        "\n",
        "# Scale the three datasets\n",
        "X_train_scaled = scaler.transform(X_train)\n",
        "X_test_scaled = scaler.transform(X_test)\n",
        "X_val_scaled = scaler.transform(X_val)"
      ]
    },
    {
      "cell_type": "code",
      "execution_count": null,
      "metadata": {
        "id": "WL1datGo3IPW"
      },
      "outputs": [],
      "source": [
        "n_estimator=[1000, 500]\n",
        "max_depths = [10, 20]\n",
        "min_samples_split = [4, 7]"
      ]
    },
    {
      "cell_type": "code",
      "execution_count": null,
      "metadata": {
        "colab": {
          "base_uri": "https://localhost:8080/"
        },
        "id": "Uz7Ylfzw3ELf",
        "outputId": "b21abf22-451a-4d18-c9cb-9dd55addf67f"
      },
      "outputs": [
        {
          "name": "stdout",
          "output_type": "stream",
          "text": [
            "RMSE Train: 8186.201364555681\n",
            "RMSE Val: 9723.259209886148\n",
            "RMSE Train: 8287.21505772604\n",
            "RMSE Val: 9750.013042320064\n",
            "RMSE Train: 4151.523372366886\n",
            "RMSE Val: 7992.191172783156\n",
            "RMSE Train: 4707.267374396596\n",
            "RMSE Val: 8061.402821667494\n",
            "RMSE Train: 8173.890713404659\n",
            "RMSE Val: 9720.303918305519\n",
            "RMSE Train: 8275.630548713572\n",
            "RMSE Val: 9744.467216332356\n",
            "RMSE Train: 4144.789902251129\n",
            "RMSE Val: 7991.151823331751\n",
            "RMSE Train: 4702.080779597086\n",
            "RMSE Val: 8064.269651974551\n"
          ]
        }
      ],
      "source": [
        "rmse_train_list = []\n",
        "rmse_val_list = []\n",
        "parameters_list = []\n",
        "\n",
        "\n",
        "# Manual GridSearch\n",
        "for estimator in n_estimator:\n",
        "    for max_depth in max_depths:\n",
        "        for min_samples in min_samples_split:\n",
        "\n",
        "            # Instantiate Model\n",
        "            random_forest = RandomForestRegressor(criterion = \"squared_error\", n_estimators = estimator, max_depth = max_depth, min_samples_split = min_samples, random_state = 42)\n",
        "\n",
        "            # Fit the Model\n",
        "            random_forest.fit(X_train_scaled, y_train)\n",
        "\n",
        "            # Predict\n",
        "            y_train_pred_r = random_forest.predict(X_train_scaled)\n",
        "            y_val_pred_r = random_forest.predict(X_val_scaled)\n",
        "\n",
        "\n",
        "            # Evaluate RMSE\n",
        "            rmse_train_r = mean_squared_error(np.exp(y_train), np.exp(y_train_pred_r), squared=False)\n",
        "            rmse_val_r = mean_squared_error(np.exp(y_val), np.exp(y_val_pred_r), squared=False)\n",
        "\n",
        "            # Append\n",
        "            rmse_train_list.append(rmse_train_r)\n",
        "            rmse_val_list.append(rmse_val_r)\n",
        "            parameters_list.append([estimator, max_depth, min_samples])\n",
        "\n",
        "            print(f\"RMSE Train: {rmse_train_r}\\nRMSE Val: {rmse_val_r}\")\n",
        "\n",
        "\n",
        "# Arrays convert to DF\n",
        "results_df = pd.DataFrame({\n",
        "    'rmse_train': rmse_train_list,\n",
        "    'rmse_val': rmse_val_list,\n",
        "    'parameters': parameters_list}).sort_values(by='rmse_val')"
      ]
    },
    {
      "cell_type": "code",
      "execution_count": null,
      "metadata": {
        "colab": {
          "base_uri": "https://localhost:8080/",
          "height": 300
        },
        "id": "ZMpCmea94B-B",
        "outputId": "49698aea-0b82-42dd-ade3-a13e8c0aa9ce"
      },
      "outputs": [
        {
          "data": {
            "text/html": [
              "\n",
              "  <div id=\"df-35905bca-f49a-4e69-824f-db3d722904f4\" class=\"colab-df-container\">\n",
              "    <div>\n",
              "<style scoped>\n",
              "    .dataframe tbody tr th:only-of-type {\n",
              "        vertical-align: middle;\n",
              "    }\n",
              "\n",
              "    .dataframe tbody tr th {\n",
              "        vertical-align: top;\n",
              "    }\n",
              "\n",
              "    .dataframe thead th {\n",
              "        text-align: right;\n",
              "    }\n",
              "</style>\n",
              "<table border=\"1\" class=\"dataframe\">\n",
              "  <thead>\n",
              "    <tr style=\"text-align: right;\">\n",
              "      <th></th>\n",
              "      <th>rmse_train</th>\n",
              "      <th>rmse_val</th>\n",
              "      <th>parameters</th>\n",
              "      <th>delta</th>\n",
              "    </tr>\n",
              "  </thead>\n",
              "  <tbody>\n",
              "    <tr>\n",
              "      <th>6</th>\n",
              "      <td>4144.789902</td>\n",
              "      <td>7991.151823</td>\n",
              "      <td>[500, 20, 4]</td>\n",
              "      <td>3846.361921</td>\n",
              "    </tr>\n",
              "    <tr>\n",
              "      <th>2</th>\n",
              "      <td>4151.523372</td>\n",
              "      <td>7992.191173</td>\n",
              "      <td>[1000, 20, 4]</td>\n",
              "      <td>3840.667800</td>\n",
              "    </tr>\n",
              "    <tr>\n",
              "      <th>3</th>\n",
              "      <td>4707.267374</td>\n",
              "      <td>8061.402822</td>\n",
              "      <td>[1000, 20, 7]</td>\n",
              "      <td>3354.135447</td>\n",
              "    </tr>\n",
              "    <tr>\n",
              "      <th>7</th>\n",
              "      <td>4702.080780</td>\n",
              "      <td>8064.269652</td>\n",
              "      <td>[500, 20, 7]</td>\n",
              "      <td>3362.188872</td>\n",
              "    </tr>\n",
              "    <tr>\n",
              "      <th>4</th>\n",
              "      <td>8173.890713</td>\n",
              "      <td>9720.303918</td>\n",
              "      <td>[500, 10, 4]</td>\n",
              "      <td>1546.413205</td>\n",
              "    </tr>\n",
              "    <tr>\n",
              "      <th>0</th>\n",
              "      <td>8186.201365</td>\n",
              "      <td>9723.259210</td>\n",
              "      <td>[1000, 10, 4]</td>\n",
              "      <td>1537.057845</td>\n",
              "    </tr>\n",
              "    <tr>\n",
              "      <th>5</th>\n",
              "      <td>8275.630549</td>\n",
              "      <td>9744.467216</td>\n",
              "      <td>[500, 10, 7]</td>\n",
              "      <td>1468.836668</td>\n",
              "    </tr>\n",
              "    <tr>\n",
              "      <th>1</th>\n",
              "      <td>8287.215058</td>\n",
              "      <td>9750.013042</td>\n",
              "      <td>[1000, 10, 7]</td>\n",
              "      <td>1462.797985</td>\n",
              "    </tr>\n",
              "  </tbody>\n",
              "</table>\n",
              "</div>\n",
              "    <div class=\"colab-df-buttons\">\n",
              "\n",
              "  <div class=\"colab-df-container\">\n",
              "    <button class=\"colab-df-convert\" onclick=\"convertToInteractive('df-35905bca-f49a-4e69-824f-db3d722904f4')\"\n",
              "            title=\"Convert this dataframe to an interactive table.\"\n",
              "            style=\"display:none;\">\n",
              "\n",
              "  <svg xmlns=\"http://www.w3.org/2000/svg\" height=\"24px\" viewBox=\"0 -960 960 960\">\n",
              "    <path d=\"M120-120v-720h720v720H120Zm60-500h600v-160H180v160Zm220 220h160v-160H400v160Zm0 220h160v-160H400v160ZM180-400h160v-160H180v160Zm440 0h160v-160H620v160ZM180-180h160v-160H180v160Zm440 0h160v-160H620v160Z\"/>\n",
              "  </svg>\n",
              "    </button>\n",
              "\n",
              "  <style>\n",
              "    .colab-df-container {\n",
              "      display:flex;\n",
              "      gap: 12px;\n",
              "    }\n",
              "\n",
              "    .colab-df-convert {\n",
              "      background-color: #E8F0FE;\n",
              "      border: none;\n",
              "      border-radius: 50%;\n",
              "      cursor: pointer;\n",
              "      display: none;\n",
              "      fill: #1967D2;\n",
              "      height: 32px;\n",
              "      padding: 0 0 0 0;\n",
              "      width: 32px;\n",
              "    }\n",
              "\n",
              "    .colab-df-convert:hover {\n",
              "      background-color: #E2EBFA;\n",
              "      box-shadow: 0px 1px 2px rgba(60, 64, 67, 0.3), 0px 1px 3px 1px rgba(60, 64, 67, 0.15);\n",
              "      fill: #174EA6;\n",
              "    }\n",
              "\n",
              "    .colab-df-buttons div {\n",
              "      margin-bottom: 4px;\n",
              "    }\n",
              "\n",
              "    [theme=dark] .colab-df-convert {\n",
              "      background-color: #3B4455;\n",
              "      fill: #D2E3FC;\n",
              "    }\n",
              "\n",
              "    [theme=dark] .colab-df-convert:hover {\n",
              "      background-color: #434B5C;\n",
              "      box-shadow: 0px 1px 3px 1px rgba(0, 0, 0, 0.15);\n",
              "      filter: drop-shadow(0px 1px 2px rgba(0, 0, 0, 0.3));\n",
              "      fill: #FFFFFF;\n",
              "    }\n",
              "  </style>\n",
              "\n",
              "    <script>\n",
              "      const buttonEl =\n",
              "        document.querySelector('#df-35905bca-f49a-4e69-824f-db3d722904f4 button.colab-df-convert');\n",
              "      buttonEl.style.display =\n",
              "        google.colab.kernel.accessAllowed ? 'block' : 'none';\n",
              "\n",
              "      async function convertToInteractive(key) {\n",
              "        const element = document.querySelector('#df-35905bca-f49a-4e69-824f-db3d722904f4');\n",
              "        const dataTable =\n",
              "          await google.colab.kernel.invokeFunction('convertToInteractive',\n",
              "                                                    [key], {});\n",
              "        if (!dataTable) return;\n",
              "\n",
              "        const docLinkHtml = 'Like what you see? Visit the ' +\n",
              "          '<a target=\"_blank\" href=https://colab.research.google.com/notebooks/data_table.ipynb>data table notebook</a>'\n",
              "          + ' to learn more about interactive tables.';\n",
              "        element.innerHTML = '';\n",
              "        dataTable['output_type'] = 'display_data';\n",
              "        await google.colab.output.renderOutput(dataTable, element);\n",
              "        const docLink = document.createElement('div');\n",
              "        docLink.innerHTML = docLinkHtml;\n",
              "        element.appendChild(docLink);\n",
              "      }\n",
              "    </script>\n",
              "  </div>\n",
              "\n",
              "\n",
              "<div id=\"df-5dc1186c-b174-4ac3-a7e4-ceafd71c1f26\">\n",
              "  <button class=\"colab-df-quickchart\" onclick=\"quickchart('df-5dc1186c-b174-4ac3-a7e4-ceafd71c1f26')\"\n",
              "            title=\"Suggest charts\"\n",
              "            style=\"display:none;\">\n",
              "\n",
              "<svg xmlns=\"http://www.w3.org/2000/svg\" height=\"24px\"viewBox=\"0 0 24 24\"\n",
              "     width=\"24px\">\n",
              "    <g>\n",
              "        <path d=\"M19 3H5c-1.1 0-2 .9-2 2v14c0 1.1.9 2 2 2h14c1.1 0 2-.9 2-2V5c0-1.1-.9-2-2-2zM9 17H7v-7h2v7zm4 0h-2V7h2v10zm4 0h-2v-4h2v4z\"/>\n",
              "    </g>\n",
              "</svg>\n",
              "  </button>\n",
              "\n",
              "<style>\n",
              "  .colab-df-quickchart {\n",
              "      --bg-color: #E8F0FE;\n",
              "      --fill-color: #1967D2;\n",
              "      --hover-bg-color: #E2EBFA;\n",
              "      --hover-fill-color: #174EA6;\n",
              "      --disabled-fill-color: #AAA;\n",
              "      --disabled-bg-color: #DDD;\n",
              "  }\n",
              "\n",
              "  [theme=dark] .colab-df-quickchart {\n",
              "      --bg-color: #3B4455;\n",
              "      --fill-color: #D2E3FC;\n",
              "      --hover-bg-color: #434B5C;\n",
              "      --hover-fill-color: #FFFFFF;\n",
              "      --disabled-bg-color: #3B4455;\n",
              "      --disabled-fill-color: #666;\n",
              "  }\n",
              "\n",
              "  .colab-df-quickchart {\n",
              "    background-color: var(--bg-color);\n",
              "    border: none;\n",
              "    border-radius: 50%;\n",
              "    cursor: pointer;\n",
              "    display: none;\n",
              "    fill: var(--fill-color);\n",
              "    height: 32px;\n",
              "    padding: 0;\n",
              "    width: 32px;\n",
              "  }\n",
              "\n",
              "  .colab-df-quickchart:hover {\n",
              "    background-color: var(--hover-bg-color);\n",
              "    box-shadow: 0 1px 2px rgba(60, 64, 67, 0.3), 0 1px 3px 1px rgba(60, 64, 67, 0.15);\n",
              "    fill: var(--button-hover-fill-color);\n",
              "  }\n",
              "\n",
              "  .colab-df-quickchart-complete:disabled,\n",
              "  .colab-df-quickchart-complete:disabled:hover {\n",
              "    background-color: var(--disabled-bg-color);\n",
              "    fill: var(--disabled-fill-color);\n",
              "    box-shadow: none;\n",
              "  }\n",
              "\n",
              "  .colab-df-spinner {\n",
              "    border: 2px solid var(--fill-color);\n",
              "    border-color: transparent;\n",
              "    border-bottom-color: var(--fill-color);\n",
              "    animation:\n",
              "      spin 1s steps(1) infinite;\n",
              "  }\n",
              "\n",
              "  @keyframes spin {\n",
              "    0% {\n",
              "      border-color: transparent;\n",
              "      border-bottom-color: var(--fill-color);\n",
              "      border-left-color: var(--fill-color);\n",
              "    }\n",
              "    20% {\n",
              "      border-color: transparent;\n",
              "      border-left-color: var(--fill-color);\n",
              "      border-top-color: var(--fill-color);\n",
              "    }\n",
              "    30% {\n",
              "      border-color: transparent;\n",
              "      border-left-color: var(--fill-color);\n",
              "      border-top-color: var(--fill-color);\n",
              "      border-right-color: var(--fill-color);\n",
              "    }\n",
              "    40% {\n",
              "      border-color: transparent;\n",
              "      border-right-color: var(--fill-color);\n",
              "      border-top-color: var(--fill-color);\n",
              "    }\n",
              "    60% {\n",
              "      border-color: transparent;\n",
              "      border-right-color: var(--fill-color);\n",
              "    }\n",
              "    80% {\n",
              "      border-color: transparent;\n",
              "      border-right-color: var(--fill-color);\n",
              "      border-bottom-color: var(--fill-color);\n",
              "    }\n",
              "    90% {\n",
              "      border-color: transparent;\n",
              "      border-bottom-color: var(--fill-color);\n",
              "    }\n",
              "  }\n",
              "</style>\n",
              "\n",
              "  <script>\n",
              "    async function quickchart(key) {\n",
              "      const quickchartButtonEl =\n",
              "        document.querySelector('#' + key + ' button');\n",
              "      quickchartButtonEl.disabled = true;  // To prevent multiple clicks.\n",
              "      quickchartButtonEl.classList.add('colab-df-spinner');\n",
              "      try {\n",
              "        const charts = await google.colab.kernel.invokeFunction(\n",
              "            'suggestCharts', [key], {});\n",
              "      } catch (error) {\n",
              "        console.error('Error during call to suggestCharts:', error);\n",
              "      }\n",
              "      quickchartButtonEl.classList.remove('colab-df-spinner');\n",
              "      quickchartButtonEl.classList.add('colab-df-quickchart-complete');\n",
              "    }\n",
              "    (() => {\n",
              "      let quickchartButtonEl =\n",
              "        document.querySelector('#df-5dc1186c-b174-4ac3-a7e4-ceafd71c1f26 button');\n",
              "      quickchartButtonEl.style.display =\n",
              "        google.colab.kernel.accessAllowed ? 'block' : 'none';\n",
              "    })();\n",
              "  </script>\n",
              "</div>\n",
              "    </div>\n",
              "  </div>\n"
            ],
            "text/plain": [
              "    rmse_train     rmse_val     parameters        delta\n",
              "6  4144.789902  7991.151823   [500, 20, 4]  3846.361921\n",
              "2  4151.523372  7992.191173  [1000, 20, 4]  3840.667800\n",
              "3  4707.267374  8061.402822  [1000, 20, 7]  3354.135447\n",
              "7  4702.080780  8064.269652   [500, 20, 7]  3362.188872\n",
              "4  8173.890713  9720.303918   [500, 10, 4]  1546.413205\n",
              "0  8186.201365  9723.259210  [1000, 10, 4]  1537.057845\n",
              "5  8275.630549  9744.467216   [500, 10, 7]  1468.836668\n",
              "1  8287.215058  9750.013042  [1000, 10, 7]  1462.797985"
            ]
          },
          "execution_count": 10,
          "metadata": {},
          "output_type": "execute_result"
        }
      ],
      "source": [
        "results_df[\"delta\"] = results_df[\"rmse_val\"] - results_df[\"rmse_train\"]\n",
        "results_df"
      ]
    },
    {
      "cell_type": "code",
      "execution_count": null,
      "metadata": {
        "colab": {
          "base_uri": "https://localhost:8080/"
        },
        "id": "fXlBkDFFwauI",
        "outputId": "a33f7177-bca6-4d32-8c00-55a6cf554f5f"
      },
      "outputs": [
        {
          "name": "stdout",
          "output_type": "stream",
          "text": [
            "RMSE Train: 4144.789902251129\n",
            "RMSE Val: 7991.151823331751\n",
            "RMSE Test: 9215.405213666043\n"
          ]
        }
      ],
      "source": [
        "# Instantiate Model\n",
        "random_forest = RandomForestRegressor(criterion = \"squared_error\", n_estimators = 500, max_depth = 20, min_samples_split = 4, random_state = 42)\n",
        "\n",
        "# Fit the Model\n",
        "random_forest.fit(X_train_scaled, y_train)\n",
        "\n",
        "# Predict\n",
        "y_train_pred_rf = random_forest.predict(X_train_scaled)\n",
        "y_val_pred_rf = random_forest.predict(X_val_scaled)\n",
        "y_test_pred_rf = random_forest.predict(X_test_scaled)"
      ]
    },
    {
      "cell_type": "code",
      "execution_count": null,
      "metadata": {
        "colab": {
          "base_uri": "https://localhost:8080/"
        },
        "id": "KLNbUkTdXuNX",
        "outputId": "eae32838-85bf-46d5-bc19-59fe597a7439"
      },
      "outputs": [
        {
          "name": "stdout",
          "output_type": "stream",
          "text": [
            "RMSE Train: 4144.789902251129\n",
            "RMSE Val: 7991.151823331751\n",
            "RMSE Test: 9215.405213666043\n",
            "\n",
            "MAPE Train: 0.06798513622263228\n",
            "MAPE Val: 0.13793925127669335\n",
            "MAPE Test: 0.13650711378677088\n",
            "\n",
            "MAE Train: 2008.0703188518858\n",
            "MAE Val: 3689.6894367798045\n",
            "MAE Test: 3904.921560819623\n",
            "\n",
            "R^2 Train: 0.9784460395695561\n",
            "R^2 Val: 0.917861663179282\n",
            "R^2 Test: 0.8970866294909672\n"
          ]
        }
      ],
      "source": [
        "# Berechnen von RMSE\n",
        "rmse_train_rf = mean_squared_error(np.exp(y_train), np.exp(y_train_pred_rf), squared=False)\n",
        "rmse_test_rf = mean_squared_error(np.exp(y_test), np.exp(y_test_pred_rf), squared=False)\n",
        "rmse_val_rf = mean_squared_error(np.exp(y_val), np.exp(y_val_pred_rf), squared=False)\n",
        "print(f\"RMSE Train: {rmse_train_rf}\\nRMSE Val: {rmse_val_rf}\\nRMSE Test: {rmse_test_rf}\")\n",
        "\n",
        "print()\n",
        "\n",
        "# Berechnen von MAPE\n",
        "mape_train_rf = mean_absolute_percentage_error(np.exp(y_train), np.exp(y_train_pred_rf))\n",
        "mape_val_rf = mean_absolute_percentage_error(np.exp(y_val), np.exp(y_val_pred_rf))\n",
        "mape_test_rf = mean_absolute_percentage_error(np.exp(y_test), np.exp(y_test_pred_rf))\n",
        "print(f\"MAPE Train: {mape_train_rf}\\nMAPE Val: {mape_val_rf}\\nMAPE Test: {mape_test_rf}\")\n",
        "\n",
        "print()\n",
        "\n",
        "# Berechnen von MAE\n",
        "mae_train_rf = mean_absolute_error(np.exp(y_train), np.exp(y_train_pred_rf))\n",
        "mae_val_rf = mean_absolute_error(np.exp(y_val), np.exp(y_val_pred_rf))\n",
        "mae_test_rf = mean_absolute_error(np.exp(y_test), np.exp(y_test_pred_rf))\n",
        "print(f\"MAE Train: {mae_train_rf}\\nMAE Val: {mae_val_rf}\\nMAE Test: {mae_test_rf}\")\n",
        "\n",
        "print()\n",
        "\n",
        "# Berechnen von R^2\n",
        "r2_train_rf = r2_score(np.exp(y_train), np.exp(y_train_pred_rf))\n",
        "r2_val_rf = r2_score(np.exp(y_val), np.exp(y_val_pred_rf))\n",
        "r2_test_rf = r2_score(np.exp(y_test), np.exp(y_test_pred_rf))\n",
        "print(f\"R^2 Train: {r2_train_rf}\\nR^2 Val: {r2_val_rf}\\nR^2 Test: {r2_test_rf}\")\n"
      ]
    },
    {
      "cell_type": "code",
      "execution_count": null,
      "metadata": {
        "id": "TBuIhmh9lOex"
      },
      "outputs": [],
      "source": [
        "import numpy as np\n",
        "import matplotlib.pyplot as plt\n",
        "\n",
        "min_value = np.array([y_test.min(), y_test_pred_rf.min()]).min()\n",
        "max_value = np.array([y_test.max(), y_test_pred_rf.max()]).max()\n",
        "\n",
        "fig, ax = plt.subplots(figsize=(10, 5), dpi=150)\n",
        "ax.scatter(y_test, y_test_pred_rf, color=\"green\")\n",
        "ax.plot([min_value, max_value], [min_value, max_value], lw=4, color=\"grey\")\n",
        "\n",
        "\n",
        "\n",
        "\n",
        "ax.set_title(\"Actual vs Predicted Plot\", fontweight=\"bold\")\n",
        "ax.set_xlabel('Actual (y)', fontweight=\"bold\")\n",
        "ax.set_ylabel('Predicted (ŷ)', fontweight=\"bold\")\n",
        "\n",
        "plt.show()"
      ]
    },
    {
      "cell_type": "markdown",
      "metadata": {
        "id": "Ipsns3lIYTlK"
      },
      "source": [
        "# Stacking"
      ]
    },
    {
      "cell_type": "markdown",
      "metadata": {
        "id": "NKn8rLytnJgS"
      },
      "source": [
        "## Model Training mit gefundenen Hyperparametern und Evaluation"
      ]
    },
    {
      "cell_type": "markdown",
      "metadata": {
        "id": "MZTxTkLzYvO0"
      },
      "source": [
        "Die beiden optimalen Modelle von oben stacken:"
      ]
    },
    {
      "cell_type": "code",
      "execution_count": 20,
      "metadata": {
        "id": "yQc4i11Al1PP"
      },
      "outputs": [],
      "source": [
        "from sklearn.ensemble import RandomForestRegressor\n",
        "from sklearn.model_selection import RandomizedSearchCV\n",
        "from sklearn.metrics import make_scorer, mean_squared_error\n",
        "import numpy as np"
      ]
    },
    {
      "cell_type": "code",
      "execution_count": 21,
      "metadata": {
        "colab": {
          "base_uri": "https://localhost:8080/"
        },
        "id": "cY8lf-Fbl1PQ",
        "outputId": "73a09fa2-c504-4080-c5da-9734eb589909"
      },
      "outputs": [
        {
          "name": "stdout",
          "output_type": "stream",
          "text": [
            "Drive already mounted at /content/drive; to attempt to forcibly remount, call drive.mount(\"/content/drive\", force_remount=True).\n"
          ]
        }
      ],
      "source": [
        "# Mount Google Drive\n",
        "from google.colab import drive\n",
        "drive.mount('/content/drive')\n",
        "\n",
        "pd.set_option('display.max_columns', None)\n",
        "\n",
        "# Read in the data\n",
        "cars = pd.read_csv(\"/content/drive/MyDrive/Colab Notebooks/Business Analytics/Project/data/final/Cars_Data_Model.csv\", sep=\";\", index_col=0)\n",
        "cars = cars.copy()"
      ]
    },
    {
      "cell_type": "code",
      "execution_count": 22,
      "metadata": {
        "id": "ehmHzfBQl1PQ"
      },
      "outputs": [],
      "source": [
        "# Behalte nur Samples mit einem Preis kleiner als 300,000 --> Ausreisser entfernen\n",
        "cars = cars[cars[\"Preis\"] < 300000]"
      ]
    },
    {
      "cell_type": "code",
      "execution_count": 23,
      "metadata": {
        "id": "xmG10Pn4l1PQ"
      },
      "outputs": [],
      "source": [
        "# Define X and y and drop features\n",
        "X = cars.drop(\"Preis\", axis=1)\n",
        "y = cars.loc[:,\"Preis\"]\n",
        "\n",
        "\n",
        "# Define Train Test Eval\n",
        "X_train, X_rest, y_train, y_rest = train_test_split(X, y, test_size=0.3, random_state=42)\n",
        "X_val, X_test, y_val, y_test = train_test_split(X_rest, y_rest, test_size=0.5, random_state=42)\n",
        "\n",
        "y_train = np.log(y_train)\n",
        "y_test = np.log(y_test)\n",
        "y_val = np.log(y_val)\n",
        "\n",
        "# Data Scaling\n",
        "scaler = RobustScaler()\n",
        "scaler.fit(X_train)\n",
        "\n",
        "# Scale the three datasets\n",
        "X_train_scaled = scaler.transform(X_train)\n",
        "X_test_scaled = scaler.transform(X_test)\n",
        "X_val_scaled = scaler.transform(X_val)"
      ]
    },
    {
      "cell_type": "code",
      "execution_count": 24,
      "metadata": {
        "id": "FFxWCS40YWnz"
      },
      "outputs": [],
      "source": [
        "from sklearn.ensemble import GradientBoostingRegressor, RandomForestRegressor, StackingRegressor\n",
        "from sklearn.metrics import mean_squared_error, mean_absolute_percentage_error, mean_absolute_error, r2_score\n",
        "import numpy as np\n",
        "\n",
        "# Basis-Modelle\n",
        "estimators = [('random_forest', RandomForestRegressor(criterion = \"squared_error\", n_estimators = 500, max_depth = 20, min_samples_split = 4, random_state = 42)), ('gradient_boosting', GradientBoostingRegressor(n_estimators = 300, max_depth = 5, learning_rate = 0.3, random_state=42))]\n",
        "\n",
        "# Stacking Regressor\n",
        "stacking_regressor = StackingRegressor(estimators=estimators, final_estimator=RandomForestRegressor(random_state=42))\n",
        "\n",
        "# Training des Stacking-Modells\n",
        "stacking_regressor.fit(X_train_scaled, y_train)\n",
        "\n",
        "# Vorhersagen treffen\n",
        "y_train_pred = stacking_regressor.predict(X_train_scaled)\n",
        "y_test_pred = stacking_regressor.predict(X_test_scaled)\n",
        "y_val_pred = stacking_regressor.predict(X_val_scaled)"
      ]
    },
    {
      "cell_type": "code",
      "execution_count": 25,
      "metadata": {
        "colab": {
          "base_uri": "https://localhost:8080/"
        },
        "id": "tGa3Sa3aZmeT",
        "outputId": "93e2bdfb-9fbc-4eb8-a1b3-d9232bdd89b3"
      },
      "outputs": [
        {
          "name": "stdout",
          "output_type": "stream",
          "text": [
            "RMSE Train: 5164.273297079453\n",
            "RMSE Val: 8065.554480840216\n",
            "RMSE Test: 9042.298401369137\n",
            "\n",
            "MAPE Train: 0.10096915848265414\n",
            "MAPE Val: 0.14635686086623034\n",
            "MAPE Test: 0.14297181259868308\n",
            "\n",
            "MAE Train: 2855.8314345583744\n",
            "MAE Val: 3961.3128693967087\n",
            "MAE Test: 4126.184642078729\n",
            "\n",
            "R^2 Train: 0.9665388799928557\n",
            "R^2 Val: 0.916325023467257\n",
            "R^2 Test: 0.9009166688836803\n"
          ]
        }
      ],
      "source": [
        "# Evaluation\n",
        "rmse_train = mean_squared_error(np.exp(y_train), np.exp(y_train_pred), squared=False)\n",
        "rmse_test = mean_squared_error(np.exp(y_test), np.exp(y_test_pred), squared=False)\n",
        "rmse_val = mean_squared_error(np.exp(y_val), np.exp(y_val_pred), squared=False)\n",
        "\n",
        "mape_train = mean_absolute_percentage_error(np.exp(y_train), np.exp(y_train_pred))\n",
        "mape_val = mean_absolute_percentage_error(np.exp(y_val), np.exp(y_val_pred))\n",
        "mape_test = mean_absolute_percentage_error(np.exp(y_test), np.exp(y_test_pred))\n",
        "\n",
        "mae_train = mean_absolute_error(np.exp(y_train), np.exp(y_train_pred))\n",
        "mae_val = mean_absolute_error(np.exp(y_val), np.exp(y_val_pred))\n",
        "mae_test = mean_absolute_error(np.exp(y_test), np.exp(y_test_pred))\n",
        "\n",
        "r2_train = r2_score(np.exp(y_train), np.exp(y_train_pred))\n",
        "r2_val = r2_score(np.exp(y_val), np.exp(y_val_pred))\n",
        "r2_test = r2_score(np.exp(y_test), np.exp(y_test_pred))\n",
        "\n",
        "# Ergebnisse ausgeben\n",
        "print(f\"RMSE Train: {rmse_train}\\nRMSE Val: {rmse_val}\\nRMSE Test: {rmse_test}\\n\")\n",
        "print(f\"MAPE Train: {mape_train}\\nMAPE Val: {mape_val}\\nMAPE Test: {mape_test}\\n\")\n",
        "print(f\"MAE Train: {mae_train}\\nMAE Val: {mae_val}\\nMAE Test: {mae_test}\\n\")\n",
        "print(f\"R^2 Train: {r2_train}\\nR^2 Val: {r2_val}\\nR^2 Test: {r2_test}\")"
      ]
    },
    {
      "cell_type": "code",
      "execution_count": 27,
      "metadata": {
        "colab": {
          "base_uri": "https://localhost:8080/",
          "height": 718
        },
        "id": "iLqJJbxDVo0v",
        "outputId": "a7785cb8-b80b-4b79-c010-2e63df18cde5"
      },
      "outputs": [
        {
          "data": {
            "image/png": "[encoded data removed]",
            "text/plain": [
              "<Figure size 1500x750 with 1 Axes>"
            ]
          },
          "metadata": {},
          "output_type": "display_data"
        }
      ],
      "source": [
        "import numpy as np\n",
        "import matplotlib.pyplot as plt\n",
        "\n",
        "# Umkehrung der Logarithmustransformation\n",
        "y_test_original = np.exp(y_test)\n",
        "y_test_pred_original = np.exp(y_test_pred)\n",
        "\n",
        "# Bestimmung der minimalen und maximalen Werte\n",
        "min_value = np.array([y_test_original.min(), y_test_pred_original.min()]).min()\n",
        "max_value = np.array([y_test_original.max(), y_test_pred_original.max()]).max()\n",
        "\n",
        "# Erstellen des Plots\n",
        "fig, ax = plt.subplots(figsize=(10, 5), dpi=150)\n",
        "ax.scatter(y_test_original, y_test_pred_original, color=\"red\")\n",
        "ax.plot([min_value, max_value], [min_value, max_value], lw=4, color=\"grey\")\n",
        "\n",
        "ax.set_title(\"Actual vs Predicted Plot\", fontweight=\"bold\")\n",
        "ax.set_xlabel('Actual (y)', fontweight=\"bold\")\n",
        "ax.set_ylabel('Predicted (ŷ)', fontweight=\"bold\")\n",
        "\n",
        "plt.show()\n"
      ]
    }
  ],
  "metadata": {
    "colab": {
      "provenance": [],
      "toc_visible": true
    },
    "kernelspec": {
      "display_name": "Python 3",
      "name": "python3"
    },
    "language_info": {
      "name": "python"
    }
  },
  "nbformat": 4,
  "nbformat_minor": 0
}
